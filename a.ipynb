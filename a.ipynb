{
 "cells": [
  {
   "cell_type": "code",
   "execution_count": 6,
   "metadata": {},
   "outputs": [
    {
     "data": {
      "text/plain": [
       "True"
      ]
     },
     "execution_count": 6,
     "metadata": {},
     "output_type": "execute_result"
    }
   ],
   "source": [
    "import psycopg2\n",
    "import os\n",
    "from psycopg2.extras import RealDictCursor\n",
    "from dotenv import load_dotenv\n",
    "import pandas as pd\n",
    "\n",
    "# .env 파일 로드\n",
    "load_dotenv()"
   ]
  },
  {
   "cell_type": "code",
   "execution_count": 7,
   "metadata": {},
   "outputs": [
    {
     "name": "stdout",
     "output_type": "stream",
     "text": [
      "Successfully connected to the database.\n",
      "Data successfully fetched and converted to DataFrame.\n",
      "      video_id  comment_id                           text_display  \\\n",
      "0  AplBYBORAv8           1                                바로 왔다..   \n",
      "1  AplBYBORAv8           2                      내가 이 날을 반년을 기다렸어.   \n",
      "2  AplBYBORAv8           3  강기분 1주차 문학 현강에서 미3누랑 찍었다는게 이거구만 ㅋㅋㅋㅋㅋ   \n",
      "3  AplBYBORAv8           4                의문의 강민철 프사 대거 출몰 예정 ㅋㅋㅋ   \n",
      "4  AplBYBORAv8           5                       자기가 민철선생님게이단이다 손   \n",
      "\n",
      "  author_display_name  like_count         published_at           created_at  \\\n",
      "0           @snan6731         125  2025-01-03 12:31:31  2025-01-06 07:00:46   \n",
      "1             @크림-q4c        1088  2025-01-03 12:31:51  2025-01-06 07:00:46   \n",
      "2          @CDRX_4524          62  2025-01-03 12:31:51  2025-01-06 07:00:46   \n",
      "3            @민주당원강민철        1797  2025-01-03 12:32:05  2025-01-06 07:00:46   \n",
      "4       @qortjfdhkdwk        4054  2025-01-03 12:32:10  2025-01-06 07:00:46   \n",
      "\n",
      "            updated_at  \n",
      "0  2025-01-06 07:00:46  \n",
      "1  2025-01-06 07:00:46  \n",
      "2  2025-01-06 07:00:46  \n",
      "3  2025-01-06 07:00:46  \n",
      "4  2025-01-06 07:00:46  \n",
      "Database connection closed.\n"
     ]
    }
   ],
   "source": [
    "# PostgreSQL DB 연결\n",
    "try:\n",
    "    db_config = {\n",
    "        \"dbname\": os.getenv(\"DB_NAME\"),\n",
    "        \"host\": os.getenv(\"DB_HOST\"),\n",
    "        \"port\": os.getenv(\"DB_PORT\"),\n",
    "        \"user\": os.getenv(\"DB_USER\"),\n",
    "        \"password\": os.getenv(\"DB_PASSWORD\")\n",
    "    }\n",
    "    conn = psycopg2.connect(**db_config)\n",
    "    cursor = conn.cursor(cursor_factory=RealDictCursor)\n",
    "    print(\"Successfully connected to the database.\")\n",
    "    \n",
    "    # 쿼리 실행\n",
    "    query = \"SELECT * FROM public.comment_analysis LIMIT 5;\"\n",
    "    cursor.execute(query)\n",
    "    results = cursor.fetchall()\n",
    "    \n",
    "    # 결과를 DataFrame으로 변환\n",
    "    df = pd.DataFrame(results)\n",
    "    print(\"Data successfully fetched and converted to DataFrame.\")\n",
    "    print(df.head())\n",
    "    \n",
    "except Exception as e:\n",
    "    print(f\"Error: {e}\")\n",
    "    \n",
    "finally:\n",
    "    # 커서와 연결 닫기\n",
    "    if cursor:\n",
    "        cursor.close()\n",
    "    if conn:\n",
    "        conn.close()\n",
    "    print(\"Database connection closed.\")\n"
   ]
  },
  {
   "cell_type": "code",
   "execution_count": null,
   "metadata": {},
   "outputs": [],
   "source": []
  }
 ],
 "metadata": {
  "kernelspec": {
   "display_name": "base",
   "language": "python",
   "name": "python3"
  },
  "language_info": {
   "codemirror_mode": {
    "name": "ipython",
    "version": 3
   },
   "file_extension": ".py",
   "mimetype": "text/x-python",
   "name": "python",
   "nbconvert_exporter": "python",
   "pygments_lexer": "ipython3",
   "version": "3.12.4"
  }
 },
 "nbformat": 4,
 "nbformat_minor": 2
}
